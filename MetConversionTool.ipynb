"""Meteorological unit conversion tool.

This script converts between common meteorological
variables such as temperature (Celsius, Fahrenheit, Kelvin) and
pressure (mb, hPa, Pa, atm).
"""

def convert_temperature(value: float, from_unit: str, to_unit: str) -> float:
    """Convert temperature between Celsius, Fahrenheit, and Kelvin.

    Args:
        value (float): Temperature value to convert.
        from_unit (str): Unit of the input value ('C', 'F', 'K').
        to_unit (str): Desired output unit ('C', 'F', 'K').

    Returns:
        float: Converted temperature value.
    """
    from_unit = from_unit.upper()
    to_unit = to_unit.upper()

    # Convert input to Celsius first
    if from_unit == "C":
        celsius = value
    elif from_unit == "F":
        celsius = (value - 32) * 5 / 9
    elif from_unit == "K":
        celsius = value - 273.15
    else:
        raise ValueError("Unsupported temperature unit.")

    # Convert Celsius to target unit
    if to_unit == "C":
        return celsius
    if to_unit == "F":
        return (celsius * 9 / 5) + 32
    if to_unit == "K":
        return celsius + 273.15

    raise ValueError("Unsupported temperature unit.")


def convert_pressure(value: float, from_unit: str, to_unit: str) -> float:
    """Convert pressure between mb, hPa, Pa, atm.

    Args:
        value (float): Pressure value to convert.
        from_unit (str): Unit of the input value ('mb', 'hPa', 'Pa', 'atm').
        to_unit (str): Desired output unit ('mb', 'hPa', 'Pa', 'atm').

    Returns:
        float: Converted pressure value.
    """
    from_unit = from_unit.lower()
    to_unit = to_unit.lower()

    # Normalize mb = hPa
    if from_unit == "mb":
        from_unit = "hpa"
    if to_unit == "mb":
        to_unit = "hpa"

    # Conversion factors (all relative to 1 hPa)
    conversions = {
        "hpa": 1.0,
        "pa": 100.0,
        "atm": 0.000986923,
    }

    if from_unit not in conversions or to_unit not in conversions:
        raise ValueError("Unsupported pressure unit.")

    # Convert from input unit to hPa
    value_in_hpa = value / conversions[from_unit]

    # Convert from hPa to target unit
    return value_in_hpa * conversions[to_unit]


def main():
    """Run the conversion program."""
    print("Meteorological Conversion Tool - Please follow the prompts. ")
    print("Enter numeric value (float) to be converted.")
    print("Select initial unit to convert from: Temperature (C, F, K) or Pressure (mb, hPa, Pa, atm)")
    print("Select unit to convert to: Temperature (C, F, K) or Pressure (mb, hPa, Pa, atm)")

    choice = input("Do you want to convert Temperature or Pressure? ").strip().lower()

    try:
        value = float(input("Enter the value to convert: "))
        from_unit = input("Enter the input unit: ").strip()
        to_unit = input("Enter the output unit: ").strip()

        if choice == "Temperature":
            result = convert_temperature(value, from_unit, to_unit)
        elif choice == "Pressure":
            result = convert_pressure(value, from_unit, to_unit)
        else:
            print("Invalid choice. Please choose 'Temperature' or 'Pressure'.")
            return

        print(f"{value} {from_unit} = {result:.2f} {to_unit}")

    except ValueError as error:
        print(f"Error: {error}")


if __name__ == "__main__":
    main()
